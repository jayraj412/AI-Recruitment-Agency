{
 "cells": [
  {
   "cell_type": "code",
   "execution_count": 1,
   "id": "27e497ed",
   "metadata": {},
   "outputs": [
    {
     "data": {
      "text/plain": [
       "True"
      ]
     },
     "execution_count": 1,
     "metadata": {},
     "output_type": "execute_result"
    }
   ],
   "source": [
    "import os, getpass\n",
    "from typing import override\n",
    "from langchain import hub\n",
    "from langchain.chat_models import ChatOpenAI\n",
    "from langchain.schema import HumanMessage, SystemMessage\n",
    "from dotenv import load_dotenv\n",
    "import datetime\n",
    "import pytz\n",
    "from langgraph.graph import StateGraph, START, END\n",
    "from langchain_core.prompts import ChatPromptTemplate\n",
    "from langchain_google_genai import ChatGoogleGenerativeAI\n",
    "from langchain_core.output_parsers import StrOutputParser\n",
    "from langchain_community.document_loaders import PyPDFLoader\n",
    "from langchain_text_splitters import RecursiveCharacterTextSplitter\n",
    "load_dotenv(override=True)"
   ]
  },
  {
   "cell_type": "code",
   "execution_count": 2,
   "id": "b1f9b5e2",
   "metadata": {},
   "outputs": [
    {
     "name": "stderr",
     "output_type": "stream",
     "text": [
      "C:\\Users\\sunit\\AppData\\Local\\Temp\\ipykernel_31064\\3647267280.py:2: LangChainDeprecationWarning: The class `ChatOpenAI` was deprecated in LangChain 0.0.10 and will be removed in 1.0. An updated version of the class exists in the :class:`~langchain-openai package and should be used instead. To use it run `pip install -U :class:`~langchain-openai` and import as `from :class:`~langchain_openai import ChatOpenAI``.\n",
      "  llm = ChatOpenAI(\n"
     ]
    }
   ],
   "source": [
    "# Create the LLM\n",
    "llm = ChatOpenAI(\n",
    "    base_url=\"https://api.anthropic.com/v1/\",\n",
    "    api_key=os.environ[\"ANTHROPIC_API_KEY\"],  # Your Anthropic API key\n",
    "    model=\"claude-opus-4-20250514\"\n",
    ")\n",
    "\n",
    "# Use invoke\n",
    "# response = llm.invoke([\n",
    "#     SystemMessage(content=\"You are a helpful assistant.\"),\n",
    "#     HumanMessage(content=\"Who is the Prime Minister of India\")\n",
    "# ])\n",
    "\n",
    "# print(response.content)"
   ]
  },
  {
   "cell_type": "code",
   "execution_count": 3,
   "id": "f456a0f0",
   "metadata": {},
   "outputs": [],
   "source": [
    "from pydantic import BaseModel, Field\n",
    "from typing import List, Optional\n",
    "from langchain_core.documents import Document\n",
    "\n",
    "class State(BaseModel):\n",
    "    # --- Inputs provided when the graph starts ---\n",
    "    question: str\n",
    "    work_experience: int\n",
    "    job_skills: List[str]\n",
    "\n",
    "    # --- Fields that will be populated during the graph's run ---\n",
    "    # These are optional and have default values.\n",
    "    context: List[Document] = Field(default_factory=list)\n",
    "    work_ex_rating: Optional[int] = None\n",
    "    skills_rating: Optional[int] = None\n",
    "    answer: Optional[str] = None\n",
    "    experience_level: Optional[str] = None \n",
    "    skill_match: Optional[str] = None "
   ]
  },
  {
   "cell_type": "code",
   "execution_count": 4,
   "id": "a06e959e",
   "metadata": {},
   "outputs": [],
   "source": [
    "from src.RAG import ResumeRAG\n",
    "\n",
    "def analyze_resume(state: State):\n",
    "    rag_pipeline = ResumeRAG(folder_path=\"docs\", llm=llm)\n",
    "    candidate_ratings = rag_pipeline.rate_candidate(\n",
    "        required_experience_years = state.work_experience,\n",
    "        required_skills_list = state.job_skills\n",
    "    )\n",
    "    return {\n",
    "        \"work_ex_rating\": candidate_ratings['work_ex_rating'],\n",
    "        \"skills_rating\": candidate_ratings['skills_rating']\n",
    "    }\n",
    "    "
   ]
  },
  {
   "cell_type": "code",
   "execution_count": 5,
   "id": "9f6671ec",
   "metadata": {},
   "outputs": [],
   "source": [
    "# Perform RAG on the resume \n",
    "workflow = StateGraph(State)"
   ]
  },
  {
   "cell_type": "code",
   "execution_count": 6,
   "id": "bb4b7ce9",
   "metadata": {},
   "outputs": [],
   "source": [
    "def categorize_application(state: State) -> State:\n",
    "    print(\"\\n Categorizing the experienc level of candidate\")\n",
    "    experience_level = None\n",
    "    if state.work_ex_rating is not None:\n",
    "        if 0 <= state.work_ex_rating <= 4:\n",
    "            experience_level = 'junior-level'\n",
    "        elif 5 <= state.work_ex_rating <= 8:\n",
    "            experience_level = 'mid-level'\n",
    "        elif state.work_ex_rating > 8:\n",
    "            experience_level = 'senior-level'\n",
    "    \n",
    "    print(f\"Categorized experience as: {experience_level}\")\n",
    "    return {\"experience_level\": experience_level}"
   ]
  },
  {
   "cell_type": "code",
   "execution_count": 7,
   "id": "e420b7a2",
   "metadata": {},
   "outputs": [],
   "source": [
    "def assessing_skillset(state: State) -> State:\n",
    "    print(\"\\n Assessing skillset of candiadte\")\n",
    "    skill_match = None\n",
    "    if state.skills_rating is not None:\n",
    "        if 0 <= state.skills_rating <= 4:\n",
    "            skill_match = 'low'\n",
    "        elif 5 <= state.skills_rating <= 8:\n",
    "            skill_match = 'medium'\n",
    "        elif state.skills_rating > 8:\n",
    "            skill_match = 'high'\n",
    "    print(f\"Assessed skill match as: {skill_match}\")\n",
    "    return {\"skill_match\": skill_match}"
   ]
  },
  {
   "cell_type": "code",
   "execution_count": 8,
   "id": "13f0f1b3",
   "metadata": {},
   "outputs": [],
   "source": [
    "from src.meeting_scheduler import MeetingScheduler, TIMEZONE\n",
    "from src.RAG import extract_email_from_text, get_text_from_pdf\n",
    "\n",
    "def schedule_hr_interview(state: State) -> State:\n",
    "    print(\"Schedule hr interview\")\n",
    "    # --- DEFINE YOUR MEETING DETAILS HERE ---\n",
    "    summary = \"Scheduling HR interview of candidate\"\n",
    "    description = \"One-on-one intercation with HR\"\n",
    "\n",
    "    resume_text_content = get_text_from_pdf('docs/RESUME.pdf')\n",
    "\n",
    "    if resume_text_content:\n",
    "        email = extract_email_from_text(resume_text_content)        \n",
    "        if email:\n",
    "            print(f\"✅ Email Address Found: {email}\")\n",
    "        else:\n",
    "            print(\"❌ No email address found in the document.\")\n",
    "\n",
    "                \n",
    "    # Set timezone\n",
    "    tz = pytz.timezone(TIMEZONE)\n",
    "\n",
    "    # Set start and end times (e.g., August 5, 2025, from 2:00 PM to 3:30 PM)\n",
    "    start_time = tz.localize(datetime.datetime(2025, 8, 5, 14, 0, 0))\n",
    "    end_time = tz.localize(datetime.datetime(2025, 8, 5, 15, 30, 0))\n",
    "\n",
    "    # --- SCHEDULING ---\n",
    "    # 1. Create an instance of the MeetingScheduler class\n",
    "    scheduler = MeetingScheduler(\n",
    "        summary=summary,\n",
    "        description=description,\n",
    "        start_time=start_time,\n",
    "        end_time=end_time,\n",
    "        attendees=[email]\n",
    "    )\n",
    "\n",
    "    scheduler.schedule()\n",
    "    \n",
    "    return {\"response\": \"Candidate has skills matching to the job requirements\"}"
   ]
  },
  {
   "cell_type": "code",
   "execution_count": 9,
   "id": "ede594aa",
   "metadata": {},
   "outputs": [],
   "source": [
    "def escalate_to_recruiter(state: State) -> State:\n",
    "    print(\"Schedule hr interview\")\n",
    "    return {\"response\": \"Candidate has senior-level experience but doesn't match job requirement\"}"
   ]
  },
  {
   "cell_type": "code",
   "execution_count": 10,
   "id": "f578103c",
   "metadata": {},
   "outputs": [],
   "source": [
    "from src.email_candidate import send_email\n",
    "def reject_application(state: State) -> State:\n",
    "    print(\"Rejecting application\")\n",
    "    resume_text_content = get_text_from_pdf('docs/RESUME.pdf')\n",
    "    if resume_text_content:\n",
    "        email = extract_email_from_text(resume_text_content)        \n",
    "        if email:\n",
    "            print(f\"✅ Email Address Found: {email}\")\n",
    "        else:\n",
    "            print(\"❌ No email address found in the document.\")\n",
    "    candidate_email = email\n",
    "    email_subject = \"Catching Up\"\n",
    "    email_body = \"We regret to inform you that your application is rejected\"\n",
    "    sender = \"choudhuryjayraj@gmail.com\"\n",
    "    \n",
    "    send_email(recipient=candidate_email, sender=sender, subject=email_subject, body=email_body)\n",
    "    return {\"response\": \"Candidate does not match JD requirements\"}"
   ]
  },
  {
   "cell_type": "code",
   "execution_count": 11,
   "id": "153cc07a",
   "metadata": {},
   "outputs": [
    {
     "data": {
      "text/plain": [
       "<langgraph.graph.state.StateGraph at 0x1286ad5c590>"
      ]
     },
     "execution_count": 11,
     "metadata": {},
     "output_type": "execute_result"
    }
   ],
   "source": [
    "workflow.add_node(\"analyze_resume\", analyze_resume)\n",
    "workflow.add_node(\"schedule_hr_interview\", schedule_hr_interview)\n",
    "workflow.add_node(\"escalate_to_recruiter\", escalate_to_recruiter)\n",
    "workflow.add_node(\"reject_application\", reject_application)\n",
    "workflow.add_node(\"categorize_application\", categorize_application) \n",
    "workflow.add_node(\"assessing_skillset\", assessing_skillset)"
   ]
  },
  {
   "cell_type": "code",
   "execution_count": 12,
   "id": "55129500",
   "metadata": {},
   "outputs": [],
   "source": [
    "def route_app(state: State) -> str:\n",
    "    print(\"\\n---Routing application...---\")\n",
    "    skill_match = state.skill_match\n",
    "    experience_level = state.experience_level\n",
    "     # A more robust logical flow\n",
    "    if skill_match == 'high':\n",
    "        print(\"Decision: High skill match -> Schedule HR Interview\")\n",
    "        return \"schedule_hr_interview\"\n",
    "    \n",
    "    # Corrected the case from \"senior-Level\" to \"senior-level\"\n",
    "    elif experience_level == 'senior-level' and skill_match == 'medium':\n",
    "        print(\"Decision: Senior level with medium skills -> Escalate to Recruiter\")\n",
    "        return \"escalate_to_recruiter\"\n",
    "        \n",
    "    elif skill_match == 'medium':\n",
    "        print(\"Decision: Medium skill match (non-senior) -> Schedule HR Interview\")\n",
    "        return \"schedule_hr_interview\"\n",
    "        \n",
    "    else:\n",
    "        # This will catch 'low' skill match or any other case\n",
    "        print(\"Decision: Low skill match -> Reject Application\")\n",
    "        return \"reject_application\""
   ]
  },
  {
   "cell_type": "code",
   "execution_count": 13,
   "id": "cdbaa919",
   "metadata": {},
   "outputs": [
    {
     "data": {
      "text/plain": [
       "<langgraph.graph.state.StateGraph at 0x1286ad5c590>"
      ]
     },
     "execution_count": 13,
     "metadata": {},
     "output_type": "execute_result"
    }
   ],
   "source": [
    "\n",
    "workflow.add_conditional_edges(\"assessing_skillset\", route_app, {\n",
    "    \"schedule_hr_interview\": \"schedule_hr_interview\",\n",
    "    \"reject_application\": \"reject_application\",\n",
    "    \"escalate_to_recruiter\": \"escalate_to_recruiter\"\n",
    "})"
   ]
  },
  {
   "cell_type": "code",
   "execution_count": 14,
   "id": "9aa03586",
   "metadata": {},
   "outputs": [
    {
     "data": {
      "text/plain": [
       "<langgraph.graph.state.StateGraph at 0x1286ad5c590>"
      ]
     },
     "execution_count": 14,
     "metadata": {},
     "output_type": "execute_result"
    }
   ],
   "source": [
    "workflow.add_edge(START, \"analyze_resume\")\n",
    "workflow.add_edge(\"analyze_resume\", \"categorize_application\")\n",
    "workflow.add_edge(\"categorize_application\", \"assessing_skillset\")\n",
    "workflow.add_edge(\"reject_application\", END)\n",
    "workflow.add_edge(\"escalate_to_recruiter\", END)\n",
    "workflow.add_edge(\"schedule_hr_interview\", END)\n",
    "workflow.add_edge(\"assessing_skillset\", END)"
   ]
  },
  {
   "cell_type": "code",
   "execution_count": 15,
   "id": "5ef433d1",
   "metadata": {},
   "outputs": [],
   "source": [
    "app = workflow.compile()"
   ]
  },
  {
   "cell_type": "code",
   "execution_count": 16,
   "id": "a6252a36",
   "metadata": {},
   "outputs": [
    {
     "data": {
      "image/png": "[encoded data removed]",
      "text/plain": [
       "<IPython.core.display.Image object>"
      ]
     },
     "metadata": {},
     "output_type": "display_data"
    }
   ],
   "source": [
    "from IPython.display import Image, display\n",
    "\n",
    "display(Image(app.get_graph().draw_mermaid_png()))"
   ]
  },
  {
   "cell_type": "code",
   "execution_count": 17,
   "id": "d09ab988",
   "metadata": {},
   "outputs": [],
   "source": [
    "def run_candidate_screening(initial_state: dict):\n",
    "    # Pass the entire dictionary to the invoke method\n",
    "    results = app.invoke(initial_state)\n",
    "    return {\n",
    "        \"work_ex_rating\": results.get(\"work_ex_rating\"),\n",
    "        \"skill_match\": results.get(\"skills_rating\"), # Assuming skill_match comes from skills_rating\n",
    "        \"response\": results.get(\"answer\") # Assuming response comes from the 'answer' key\n",
    "    }"
   ]
  },
  {
   "cell_type": "code",
   "execution_count": 18,
   "id": "1ae3f088",
   "metadata": {},
   "outputs": [
    {
     "name": "stdout",
     "output_type": "stream",
     "text": [
      "Loading documents from: docs\n",
      "Loaded 1 documents.\n",
      "Split documents into 5 chunks.\n"
     ]
    },
    {
     "name": "stderr",
     "output_type": "stream",
     "text": [
      "j:\\Projects\\AI Agent Recruitment Agency\\src\\RAG.py:55: LangChainDeprecationWarning: The class `HuggingFaceEmbeddings` was deprecated in LangChain 0.2.2 and will be removed in 1.0. An updated version of the class exists in the :class:`~langchain-huggingface package and should be used instead. To use it run `pip install -U :class:`~langchain-huggingface` and import as `from :class:`~langchain_huggingface import HuggingFaceEmbeddings``.\n",
      "  embeddings = HuggingFaceEmbeddings(model_name=\"sentence-transformers/all-MiniLM-L6-v2\")\n",
      "j:\\Projects\\AI Agent Recruitment Agency\\.venv\\Lib\\site-packages\\tqdm\\auto.py:21: TqdmWarning: IProgress not found. Please update jupyter and ipywidgets. See https://ipywidgets.readthedocs.io/en/stable/user_install.html\n",
      "  from .autonotebook import tqdm as notebook_tqdm\n"
     ]
    },
    {
     "name": "stdout",
     "output_type": "stream",
     "text": [
      "Creating vector database...\n"
     ]
    },
    {
     "name": "stderr",
     "output_type": "stream",
     "text": [
      "j:\\Projects\\AI Agent Recruitment Agency\\.venv\\Lib\\site-packages\\torch\\nn\\modules\\module.py:1762: FutureWarning: `encoder_attention_mask` is deprecated and will be removed in version 4.55.0 for `BertSdpaSelfAttention.forward`.\n",
      "  return forward_call(*args, **kwargs)\n"
     ]
    },
    {
     "name": "stdout",
     "output_type": "stream",
     "text": [
      "Vector database created successfully.\n",
      "\n",
      "Retrieving documents for query: 'A candidate with at least 2 years of work experience and expertise in Java,, Kotlin,, Angular,, PHP,, Azure,, Databricks.'\n",
      "Invoking LLM to generate ratings...\n"
     ]
    },
    {
     "name": "stderr",
     "output_type": "stream",
     "text": [
      "j:\\Projects\\AI Agent Recruitment Agency\\.venv\\Lib\\site-packages\\torch\\nn\\modules\\module.py:1762: FutureWarning: `encoder_attention_mask` is deprecated and will be removed in version 4.55.0 for `BertSdpaSelfAttention.forward`.\n",
      "  return forward_call(*args, **kwargs)\n"
     ]
    },
    {
     "name": "stdout",
     "output_type": "stream",
     "text": [
      "\n",
      " Categorizing the experienc level of candidate\n",
      "Categorized experience as: junior-level\n",
      "\n",
      " Assessing skillset of candiadte\n",
      "Assessed skill match as: low\n",
      "\n",
      "---Routing application...---\n",
      "Decision: Low skill match -> Reject Application\n",
      "Rejecting application\n",
      "✅ Email Address Found: jayraj.c26PGAI@jioinstitute.edu.in\n",
      "Please visit this URL to authorize this application: https://accounts.google.com/o/oauth2/auth?response_type=code&client_id=249399055390-h02ga0mon7onf0toph0lipms30pfmgep.apps.googleusercontent.com&redirect_uri=http%3A%2F%2Flocalhost%3A57011%2F&scope=https%3A%2F%2Fwww.googleapis.com%2Fauth%2Fgmail.send&state=XgzgQVgqc3Da1iLg9CEH5UIZpiJbdg&access_type=offline\n",
      "✅ Email sent successfully! Message ID: 19892842e04c9c80\n",
      "\n",
      "\n",
      "Computed Results :\n",
      "Application: A candidate with at least 2 years of work experience and expertise in Java,, Kotlin,, Angular,, PHP,, Azure,, Databricks.\n",
      "{'work_ex_rating': 0, 'skill_match': 0, 'response': None}\n"
     ]
    }
   ],
   "source": [
    "# Assume 'vectorstore' and 'llm' are already configured\n",
    "\n",
    "\n",
    "# --- 1. Define your dynamic parameters ---\n",
    "required_experience_years = int(input(\"Enter no. of years of work ex required\"))\n",
    "required_skills_list = list(map(str, input(\"Enter the skillset required\").split()))\n",
    "required_skills_str = \", \".join(required_skills_list)\n",
    "\n",
    "# Dynamic query\n",
    "question = (\n",
    "    f\"A candidate with at least {required_experience_years} years of work experience \"\n",
    "    f\"and expertise in {required_skills_str}.\"\n",
    ")\n",
    "\n",
    "initial_state_dict = {\n",
    "    \"question\": question,\n",
    "    \"work_experience\": required_experience_years,\n",
    "    \"job_skills\": required_skills_list\n",
    "}\n",
    "\n",
    "\n",
    "results = run_candidate_screening(initial_state_dict)\n",
    "\n",
    "print(\"\\n\\nComputed Results :\")\n",
    "print(f\"Application: {question}\")\n",
    "# print(f\"Experience Level: {results['experience_level']}\")\n",
    "# print(f\"Skill Match: {results['skill_match']}\")\n",
    "# print(f\"Response: {results['response']}\")\n",
    "\n",
    "print(results)"
   ]
  },
  {
   "cell_type": "code",
   "execution_count": null,
   "id": "a4feb22b",
   "metadata": {},
   "outputs": [],
   "source": []
  }
 ],
 "metadata": {
  "kernelspec": {
   "display_name": ".venv",
   "language": "python",
   "name": "python3"
  },
  "language_info": {
   "codemirror_mode": {
    "name": "ipython",
    "version": 3
   },
   "file_extension": ".py",
   "mimetype": "text/x-python",
   "name": "python",
   "nbconvert_exporter": "python",
   "pygments_lexer": "ipython3",
   "version": "3.13.6"
  }
 },
 "nbformat": 4,
 "nbformat_minor": 5
}
